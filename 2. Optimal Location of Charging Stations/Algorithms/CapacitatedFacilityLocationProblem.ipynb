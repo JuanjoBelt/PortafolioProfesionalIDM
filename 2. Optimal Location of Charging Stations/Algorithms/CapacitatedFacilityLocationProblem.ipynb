{
 "cells": [
  {
   "cell_type": "markdown",
   "metadata": {},
   "source": [
    "# **Capacitated Facility Location Problem**"
   ]
  },
  {
   "cell_type": "code",
   "execution_count": 347,
   "metadata": {},
   "outputs": [],
   "source": [
    "from pulp import *\n",
    "import matplotlib.pyplot as plt\n",
    "import math\n",
    "import numpy as np"
   ]
  },
  {
   "cell_type": "markdown",
   "metadata": {},
   "source": [
    "## **Establecer Parámetros**"
   ]
  },
  {
   "cell_type": "code",
   "execution_count": 348,
   "metadata": {},
   "outputs": [],
   "source": [
    "n = 5 # Cantidad de clientes\n",
    "m = 4 # Cantidad de proveedores\n",
    "\n",
    "# Lista de clientes\n",
    "posClientes = [(0, 1), (8, 6), (7, 2), (1, -5), (4, 2)]\n",
    "clientesX = [posClientes[i][0] for i in range(n)]\n",
    "clientesY = [posClientes[i][1] for i in range(n)]\n",
    "\n",
    "\n",
    "# Lista de proveedores\n",
    "posProvee = [(2, 0), (6.5, -2), (4.5, 5), (2, -5)]\n",
    "proveeX = [posProvee[i][0] for i in range(m)]\n",
    "proveeY = [posProvee[i][1] for i in range(m)]\n",
    "\n",
    "\n",
    "# Diccionario con las demandas\n",
    "demandas = [80, 270, 250, 160, 180]\n",
    "# Diccionario con las ofertas\n",
    "ofertas = [500, 500, 500, 500]\n",
    "# Diccionario de precios que tiene cada facility\n",
    "precios = [1000, 1000, 1000, 1000]"
   ]
  },
  {
   "cell_type": "code",
   "execution_count": 349,
   "metadata": {},
   "outputs": [
    {
     "data": {
      "image/png": "[encoded data removed]",
      "text/plain": [
       "<Figure size 640x480 with 1 Axes>"
      ]
     },
     "metadata": {},
     "output_type": "display_data"
    }
   ],
   "source": [
    "fig, ax = plt.subplots()\n",
    "ax.scatter(clientesX, clientesY, color = 'red', s = np.array(demandas)**2 / 10)\n",
    "ax.scatter(proveeX, proveeY, color = 'black')\n",
    "plt.xlabel(\"Eje X\")\n",
    "plt.ylabel(\"Eje Y\")\n",
    "plt.title(\"Mapa con Clientes y Posibles Proveedores\")\n",
    "plt.show()"
   ]
  },
  {
   "cell_type": "markdown",
   "metadata": {},
   "source": [
    "Preparar las estructuras de datos."
   ]
  },
  {
   "cell_type": "code",
   "execution_count": 350,
   "metadata": {},
   "outputs": [],
   "source": [
    "# Listas de clientes y proveedores\n",
    "Customer = [i for i in range(1, n+1)]\n",
    "Facility = [f'Fac_{i}' for i in range(1, m+1)]\n",
    "\n",
    "# Diccionario de demandas\n",
    "Demand = {}\n",
    "for i in range(n):\n",
    "    Demand[Customer[i]] = demandas[i]\n",
    "\n",
    "# Diccionarios de ofertas\n",
    "Max_Supply = {}\n",
    "for i in range(m):\n",
    "    Max_Supply[Facility[i]] = ofertas[i]\n",
    "\n",
    "# Diccionarios de precio de habilitar proveedores\n",
    "fixed_cost = {}\n",
    "for i in range(m):\n",
    "    fixed_cost[Facility[i]] = precios[i]\n",
    "\n",
    "# Diccionario de costos de transporte\n",
    "# transportation_cost = {}\n",
    "# for i in range(m):\n",
    "#     aux = {}\n",
    "#     for j in range(n):\n",
    "#         aux[Customer[j]] = g[i][j]\n",
    "#     transportation_cost[Facility[i]] = aux"
   ]
  },
  {
   "cell_type": "code",
   "execution_count": 351,
   "metadata": {},
   "outputs": [
    {
     "data": {
      "text/plain": [
       "{'Fac_1': {1: 2.23606797749979,\n",
       "  2: 8.48528137423857,\n",
       "  3: 5.385164807134504,\n",
       "  4: 5.0990195135927845,\n",
       "  5: 2.8284271247461903},\n",
       " 'Fac_2': {1: 7.158910531638177,\n",
       "  2: 8.139410298049853,\n",
       "  3: 4.031128874149275,\n",
       "  4: 6.264982043070834,\n",
       "  5: 4.716990566028302},\n",
       " 'Fac_3': {1: 6.020797289396148,\n",
       "  2: 3.640054944640259,\n",
       "  3: 3.905124837953327,\n",
       "  4: 10.594810050208546,\n",
       "  5: 3.0413812651491097},\n",
       " 'Fac_4': {1: 6.324555320336759,\n",
       "  2: 12.529964086141668,\n",
       "  3: 8.602325267042627,\n",
       "  4: 1.0,\n",
       "  5: 7.280109889280518}}"
      ]
     },
     "execution_count": 351,
     "metadata": {},
     "output_type": "execute_result"
    }
   ],
   "source": [
    "# Generar el grafo de distancias\n",
    "def distanciaEuclideana(a, b):\n",
    "    return math.sqrt((a[0]-b[0])**2 + (a[1]-b[1])**2)\n",
    "\n",
    "transportation_cost = {}\n",
    "for i in range(m): # Proveedores\n",
    "    aux = {}\n",
    "    for j in range(n): # Clientes\n",
    "        aux[Customer[j]] = distanciaEuclideana(posProvee[i], posClientes[j])\n",
    "    transportation_cost[Facility[i]] = aux\n",
    "transportation_cost"
   ]
  },
  {
   "cell_type": "markdown",
   "metadata": {},
   "source": [
    "## **Planteamiento del Problema**"
   ]
  },
  {
   "cell_type": "code",
   "execution_count": 352,
   "metadata": {},
   "outputs": [],
   "source": [
    "# Setting the Problem\n",
    "prob = LpProblem(\"Capacitated Facility Location Problem\", LpMinimize)"
   ]
  },
  {
   "cell_type": "code",
   "execution_count": 353,
   "metadata": {},
   "outputs": [],
   "source": [
    "# Defining our Desicion Variables\n",
    "use_facility = LpVariable.dicts(\"Use Facility\", Facility, 0, 1, LpBinary)\n",
    "ser_customer = LpVariable.dicts(\"Service\", [(i,j) for i in Customer for j in Facility], 0)"
   ]
  },
  {
   "cell_type": "code",
   "execution_count": 354,
   "metadata": {},
   "outputs": [],
   "source": [
    "# Setting the Objective Function\n",
    "prob += lpSum(fixed_cost[j]*use_facility[j] for j in Facility) + lpSum(transportation_cost[j][i]*ser_customer[(i,j)] for j in Facility for i in Customer)"
   ]
  },
  {
   "cell_type": "code",
   "execution_count": 355,
   "metadata": {},
   "outputs": [],
   "source": [
    "# Costraints\n",
    "for i in Customer:\n",
    "    prob += lpSum(ser_customer[(i,j)] for j in Facility) == Demand[i]\n",
    "\n",
    "for j in Facility:\n",
    "    prob += lpSum(ser_customer[(i,j)] for i in Customer) <= Max_Supply[j]*use_facility[j]\n",
    "\n",
    "for i in Customer:\n",
    "    for j in Facility:\n",
    "        prob += ser_customer[(i,j)] <= Demand[i]*use_facility[j]"
   ]
  },
  {
   "cell_type": "markdown",
   "metadata": {},
   "source": [
    "## **Resolver el Modelo Matemático**"
   ]
  },
  {
   "cell_type": "code",
   "execution_count": 356,
   "metadata": {},
   "outputs": [
    {
     "name": "stdout",
     "output_type": "stream",
     "text": [
      "Status de la solución: Optimal\n"
     ]
    }
   ],
   "source": [
    "prob.solve()\n",
    "print(\"Status de la solución:\", LpStatus[prob.status])"
   ]
  },
  {
   "cell_type": "code",
   "execution_count": 357,
   "metadata": {},
   "outputs": [
    {
     "name": "stdout",
     "output_type": "stream",
     "text": [
      "Se establece el proveedor: Fac_1\n",
      "Se establece el proveedor: Fac_3\n"
     ]
    }
   ],
   "source": [
    "# Print the solution of Binary Decision Variables\n",
    "Tolerance = 0.0001\n",
    "for j in Facility:\n",
    "    if use_facility[j].varValue > Tolerance:\n",
    "        print(\"Se establece el proveedor:\", j)"
   ]
  },
  {
   "cell_type": "code",
   "execution_count": 358,
   "metadata": {},
   "outputs": [
    {
     "name": "stdout",
     "output_type": "stream",
     "text": [
      "Service_(1,_'Fac_1') = 80.0\n",
      "Service_(1,_'Fac_2') = 0.0\n",
      "Service_(1,_'Fac_3') = 0.0\n",
      "Service_(1,_'Fac_4') = 0.0\n",
      "Service_(2,_'Fac_1') = 0.0\n",
      "Service_(2,_'Fac_2') = 0.0\n",
      "Service_(2,_'Fac_3') = 270.0\n",
      "Service_(2,_'Fac_4') = 0.0\n",
      "Service_(3,_'Fac_1') = 20.0\n",
      "Service_(3,_'Fac_2') = 0.0\n",
      "Service_(3,_'Fac_3') = 230.0\n",
      "Service_(3,_'Fac_4') = 0.0\n",
      "Service_(4,_'Fac_1') = 160.0\n",
      "Service_(4,_'Fac_2') = 0.0\n",
      "Service_(4,_'Fac_3') = 0.0\n",
      "Service_(4,_'Fac_4') = 0.0\n",
      "Service_(5,_'Fac_1') = 180.0\n",
      "Service_(5,_'Fac_2') = 0.0\n",
      "Service_(5,_'Fac_3') = 0.0\n",
      "Service_(5,_'Fac_4') = 0.0\n",
      "Use_Facility_Fac_1 = 1.0\n",
      "Use_Facility_Fac_2 = 0.0\n",
      "Use_Facility_Fac_3 = 1.0\n",
      "Use_Facility_Fac_4 = 0.0\n"
     ]
    }
   ],
   "source": [
    "# Print the solution of Continuous Decision Variables\n",
    "solution = []\n",
    "for v in prob.variables():\n",
    "    print(v.name, \"=\", v.varValue)\n",
    "    solution.append(v.varValue)"
   ]
  },
  {
   "cell_type": "code",
   "execution_count": 359,
   "metadata": {},
   "outputs": [
    {
     "name": "stdout",
     "output_type": "stream",
     "text": [
      "Costo total: 5492.542286753968\n"
     ]
    }
   ],
   "source": [
    "# Print Optimal\n",
    "print(\"Costo total:\", value(prob.objective))"
   ]
  },
  {
   "cell_type": "code",
   "execution_count": 360,
   "metadata": {},
   "outputs": [],
   "source": [
    "selectedProvee = solution[-m:]\n",
    "for i in range(m):\n",
    "    if selectedProvee[i] == 0: selectedProvee[i] += 0.25"
   ]
  },
  {
   "cell_type": "code",
   "execution_count": 361,
   "metadata": {},
   "outputs": [
    {
     "data": {
      "image/png": "[encoded data removed]",
      "text/plain": [
       "<Figure size 640x480 with 1 Axes>"
      ]
     },
     "metadata": {},
     "output_type": "display_data"
    }
   ],
   "source": [
    "fig, ax = plt.subplots()\n",
    "ax.scatter(clientesX, clientesY, color = 'red', s = np.array(demandas)**2 / 10)\n",
    "ax.scatter(proveeX, proveeY, color = 'black', alpha = selectedProvee)\n",
    "plt.xlabel(\"Eje X\")\n",
    "plt.ylabel(\"Eje Y\")\n",
    "plt.title(\"Mapa con Clientes y Proveedores Elegidos\")\n",
    "plt.show()"
   ]
  }
 ],
 "metadata": {
  "kernelspec": {
   "display_name": "Python 3",
   "language": "python",
   "name": "python3"
  },
  "language_info": {
   "codemirror_mode": {
    "name": "ipython",
    "version": 3
   },
   "file_extension": ".py",
   "mimetype": "text/x-python",
   "name": "python",
   "nbconvert_exporter": "python",
   "pygments_lexer": "ipython3",
   "version": "3.10.6"
  }
 },
 "nbformat": 4,
 "nbformat_minor": 2
}
